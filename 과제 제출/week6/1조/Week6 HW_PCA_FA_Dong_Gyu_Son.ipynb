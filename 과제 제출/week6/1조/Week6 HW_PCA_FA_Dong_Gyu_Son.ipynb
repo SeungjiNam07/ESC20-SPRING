{
 "cells": [
  {
   "cell_type": "markdown",
   "metadata": {},
   "source": [
    "# Week 6 HW : PCA & FA"
   ]
  },
  {
   "cell_type": "markdown",
   "metadata": {},
   "source": [
    "## 1. EDA"
   ]
  },
  {
   "cell_type": "code",
   "execution_count": 1,
   "metadata": {},
   "outputs": [],
   "source": [
    "# Week 3에서 했던 것을 그대로 가져와보자.\n",
    "\n",
    "import numpy as np\n",
    "np.set_printoptions(precision=3)\n",
    "import pandas as pd\n",
    "pd.set_option('display.precision',3)\n",
    "import matplotlib.pyplot as plt\n",
    "import seaborn as sns\n",
    "%matplotlib inline"
   ]
  },
  {
   "cell_type": "code",
   "execution_count": 2,
   "metadata": {},
   "outputs": [
    {
     "data": {
      "text/html": [
       "<div>\n",
       "<style scoped>\n",
       "    .dataframe tbody tr th:only-of-type {\n",
       "        vertical-align: middle;\n",
       "    }\n",
       "\n",
       "    .dataframe tbody tr th {\n",
       "        vertical-align: top;\n",
       "    }\n",
       "\n",
       "    .dataframe thead th {\n",
       "        text-align: right;\n",
       "    }\n",
       "</style>\n",
       "<table border=\"1\" class=\"dataframe\">\n",
       "  <thead>\n",
       "    <tr style=\"text-align: right;\">\n",
       "      <th></th>\n",
       "      <th>0</th>\n",
       "      <th>1</th>\n",
       "      <th>2</th>\n",
       "      <th>3</th>\n",
       "      <th>4</th>\n",
       "      <th>5</th>\n",
       "      <th>6</th>\n",
       "      <th>7</th>\n",
       "      <th>8</th>\n",
       "      <th>9</th>\n",
       "      <th>10</th>\n",
       "      <th>11</th>\n",
       "      <th>12</th>\n",
       "      <th>13</th>\n",
       "    </tr>\n",
       "  </thead>\n",
       "  <tbody>\n",
       "    <tr>\n",
       "      <th>0</th>\n",
       "      <td>1</td>\n",
       "      <td>14.23</td>\n",
       "      <td>1.71</td>\n",
       "      <td>2.43</td>\n",
       "      <td>15.6</td>\n",
       "      <td>127</td>\n",
       "      <td>2.80</td>\n",
       "      <td>3.06</td>\n",
       "      <td>0.28</td>\n",
       "      <td>2.29</td>\n",
       "      <td>5.64</td>\n",
       "      <td>1.04</td>\n",
       "      <td>3.92</td>\n",
       "      <td>1065</td>\n",
       "    </tr>\n",
       "    <tr>\n",
       "      <th>1</th>\n",
       "      <td>1</td>\n",
       "      <td>13.20</td>\n",
       "      <td>1.78</td>\n",
       "      <td>2.14</td>\n",
       "      <td>11.2</td>\n",
       "      <td>100</td>\n",
       "      <td>2.65</td>\n",
       "      <td>2.76</td>\n",
       "      <td>0.26</td>\n",
       "      <td>1.28</td>\n",
       "      <td>4.38</td>\n",
       "      <td>1.05</td>\n",
       "      <td>3.40</td>\n",
       "      <td>1050</td>\n",
       "    </tr>\n",
       "    <tr>\n",
       "      <th>2</th>\n",
       "      <td>1</td>\n",
       "      <td>13.16</td>\n",
       "      <td>2.36</td>\n",
       "      <td>2.67</td>\n",
       "      <td>18.6</td>\n",
       "      <td>101</td>\n",
       "      <td>2.80</td>\n",
       "      <td>3.24</td>\n",
       "      <td>0.30</td>\n",
       "      <td>2.81</td>\n",
       "      <td>5.68</td>\n",
       "      <td>1.03</td>\n",
       "      <td>3.17</td>\n",
       "      <td>1185</td>\n",
       "    </tr>\n",
       "    <tr>\n",
       "      <th>3</th>\n",
       "      <td>1</td>\n",
       "      <td>14.37</td>\n",
       "      <td>1.95</td>\n",
       "      <td>2.50</td>\n",
       "      <td>16.8</td>\n",
       "      <td>113</td>\n",
       "      <td>3.85</td>\n",
       "      <td>3.49</td>\n",
       "      <td>0.24</td>\n",
       "      <td>2.18</td>\n",
       "      <td>7.80</td>\n",
       "      <td>0.86</td>\n",
       "      <td>3.45</td>\n",
       "      <td>1480</td>\n",
       "    </tr>\n",
       "    <tr>\n",
       "      <th>4</th>\n",
       "      <td>1</td>\n",
       "      <td>13.24</td>\n",
       "      <td>2.59</td>\n",
       "      <td>2.87</td>\n",
       "      <td>21.0</td>\n",
       "      <td>118</td>\n",
       "      <td>2.80</td>\n",
       "      <td>2.69</td>\n",
       "      <td>0.39</td>\n",
       "      <td>1.82</td>\n",
       "      <td>4.32</td>\n",
       "      <td>1.04</td>\n",
       "      <td>2.93</td>\n",
       "      <td>735</td>\n",
       "    </tr>\n",
       "  </tbody>\n",
       "</table>\n",
       "</div>"
      ],
      "text/plain": [
       "   0      1     2     3     4    5     6     7     8     9     10    11    12  \\\n",
       "0   1  14.23  1.71  2.43  15.6  127  2.80  3.06  0.28  2.29  5.64  1.04  3.92   \n",
       "1   1  13.20  1.78  2.14  11.2  100  2.65  2.76  0.26  1.28  4.38  1.05  3.40   \n",
       "2   1  13.16  2.36  2.67  18.6  101  2.80  3.24  0.30  2.81  5.68  1.03  3.17   \n",
       "3   1  14.37  1.95  2.50  16.8  113  3.85  3.49  0.24  2.18  7.80  0.86  3.45   \n",
       "4   1  13.24  2.59  2.87  21.0  118  2.80  2.69  0.39  1.82  4.32  1.04  2.93   \n",
       "\n",
       "     13  \n",
       "0  1065  \n",
       "1  1050  \n",
       "2  1185  \n",
       "3  1480  \n",
       "4   735  "
      ]
     },
     "execution_count": 2,
     "metadata": {},
     "output_type": "execute_result"
    }
   ],
   "source": [
    "wine = pd.read_csv('Wine.csv', header=None)\n",
    "wine.head()"
   ]
  },
  {
   "cell_type": "code",
   "execution_count": 3,
   "metadata": {},
   "outputs": [
    {
     "name": "stdout",
     "output_type": "stream",
     "text": [
      "<class 'pandas.core.frame.DataFrame'>\n",
      "RangeIndex: 178 entries, 0 to 177\n",
      "Data columns (total 14 columns):\n",
      "Name                   178 non-null int64\n",
      "Alcohol                178 non-null float64\n",
      "MalicAcid              178 non-null float64\n",
      "Ash                    178 non-null float64\n",
      "AlcalinityOfAsh        178 non-null float64\n",
      "Magnesium              178 non-null int64\n",
      "TotalPhenols           178 non-null float64\n",
      "Flavanoids             178 non-null float64\n",
      "NonFlavanoidPhenols    178 non-null float64\n",
      "Proanthocyanins        178 non-null float64\n",
      "ColorIntensity         178 non-null float64\n",
      "Hue                    178 non-null float64\n",
      "OD280/OD315            178 non-null float64\n",
      "Proline                178 non-null int64\n",
      "dtypes: float64(11), int64(3)\n",
      "memory usage: 19.5 KB\n"
     ]
    }
   ],
   "source": [
    "wine.columns = ['Name', \n",
    "                'Alcohol', \n",
    "                'MalicAcid', \n",
    "                'Ash', \n",
    "                'AlcalinityOfAsh', \n",
    "                'Magnesium', \n",
    "                'TotalPhenols', \n",
    "                'Flavanoids', \n",
    "                'NonFlavanoidPhenols', \n",
    "                'Proanthocyanins', \n",
    "                'ColorIntensity', \n",
    "                'Hue', \n",
    "                'OD280/OD315', \n",
    "                'Proline']\n",
    "# Week 3에서는 Feature Selection 시 변수를 선정해서 변수의 이름 지정하는 것이 중요\n",
    "# 그러나 PCA, FA에서는 변수들을 조합해버리기 때문에 별 의미가...없다...\n",
    "\n",
    "wine.info() # Cheking NA value"
   ]
  },
  {
   "cell_type": "code",
   "execution_count": 4,
   "metadata": {},
   "outputs": [
    {
     "data": {
      "text/html": [
       "<div>\n",
       "<style scoped>\n",
       "    .dataframe tbody tr th:only-of-type {\n",
       "        vertical-align: middle;\n",
       "    }\n",
       "\n",
       "    .dataframe tbody tr th {\n",
       "        vertical-align: top;\n",
       "    }\n",
       "\n",
       "    .dataframe thead th {\n",
       "        text-align: right;\n",
       "    }\n",
       "</style>\n",
       "<table border=\"1\" class=\"dataframe\">\n",
       "  <thead>\n",
       "    <tr style=\"text-align: right;\">\n",
       "      <th></th>\n",
       "      <th>Name</th>\n",
       "      <th>Alcohol</th>\n",
       "      <th>MalicAcid</th>\n",
       "      <th>Ash</th>\n",
       "      <th>AlcalinityOfAsh</th>\n",
       "      <th>Magnesium</th>\n",
       "      <th>TotalPhenols</th>\n",
       "      <th>Flavanoids</th>\n",
       "      <th>NonFlavanoidPhenols</th>\n",
       "      <th>Proanthocyanins</th>\n",
       "      <th>ColorIntensity</th>\n",
       "      <th>Hue</th>\n",
       "      <th>OD280/OD315</th>\n",
       "      <th>Proline</th>\n",
       "    </tr>\n",
       "  </thead>\n",
       "  <tbody>\n",
       "    <tr>\n",
       "      <th>count</th>\n",
       "      <td>178.000</td>\n",
       "      <td>178.000</td>\n",
       "      <td>178.000</td>\n",
       "      <td>178.000</td>\n",
       "      <td>178.000</td>\n",
       "      <td>178.000</td>\n",
       "      <td>178.000</td>\n",
       "      <td>178.000</td>\n",
       "      <td>178.000</td>\n",
       "      <td>178.000</td>\n",
       "      <td>178.000</td>\n",
       "      <td>178.000</td>\n",
       "      <td>178.000</td>\n",
       "      <td>178.000</td>\n",
       "    </tr>\n",
       "    <tr>\n",
       "      <th>mean</th>\n",
       "      <td>1.938</td>\n",
       "      <td>13.001</td>\n",
       "      <td>2.336</td>\n",
       "      <td>2.367</td>\n",
       "      <td>19.495</td>\n",
       "      <td>99.742</td>\n",
       "      <td>2.295</td>\n",
       "      <td>2.029</td>\n",
       "      <td>0.362</td>\n",
       "      <td>1.591</td>\n",
       "      <td>5.058</td>\n",
       "      <td>0.957</td>\n",
       "      <td>2.612</td>\n",
       "      <td>746.893</td>\n",
       "    </tr>\n",
       "    <tr>\n",
       "      <th>std</th>\n",
       "      <td>0.775</td>\n",
       "      <td>0.812</td>\n",
       "      <td>1.117</td>\n",
       "      <td>0.274</td>\n",
       "      <td>3.340</td>\n",
       "      <td>14.282</td>\n",
       "      <td>0.626</td>\n",
       "      <td>0.999</td>\n",
       "      <td>0.124</td>\n",
       "      <td>0.572</td>\n",
       "      <td>2.318</td>\n",
       "      <td>0.229</td>\n",
       "      <td>0.710</td>\n",
       "      <td>314.907</td>\n",
       "    </tr>\n",
       "    <tr>\n",
       "      <th>min</th>\n",
       "      <td>1.000</td>\n",
       "      <td>11.030</td>\n",
       "      <td>0.740</td>\n",
       "      <td>1.360</td>\n",
       "      <td>10.600</td>\n",
       "      <td>70.000</td>\n",
       "      <td>0.980</td>\n",
       "      <td>0.340</td>\n",
       "      <td>0.130</td>\n",
       "      <td>0.410</td>\n",
       "      <td>1.280</td>\n",
       "      <td>0.480</td>\n",
       "      <td>1.270</td>\n",
       "      <td>278.000</td>\n",
       "    </tr>\n",
       "    <tr>\n",
       "      <th>25%</th>\n",
       "      <td>1.000</td>\n",
       "      <td>12.362</td>\n",
       "      <td>1.603</td>\n",
       "      <td>2.210</td>\n",
       "      <td>17.200</td>\n",
       "      <td>88.000</td>\n",
       "      <td>1.742</td>\n",
       "      <td>1.205</td>\n",
       "      <td>0.270</td>\n",
       "      <td>1.250</td>\n",
       "      <td>3.220</td>\n",
       "      <td>0.782</td>\n",
       "      <td>1.938</td>\n",
       "      <td>500.500</td>\n",
       "    </tr>\n",
       "    <tr>\n",
       "      <th>50%</th>\n",
       "      <td>2.000</td>\n",
       "      <td>13.050</td>\n",
       "      <td>1.865</td>\n",
       "      <td>2.360</td>\n",
       "      <td>19.500</td>\n",
       "      <td>98.000</td>\n",
       "      <td>2.355</td>\n",
       "      <td>2.135</td>\n",
       "      <td>0.340</td>\n",
       "      <td>1.555</td>\n",
       "      <td>4.690</td>\n",
       "      <td>0.965</td>\n",
       "      <td>2.780</td>\n",
       "      <td>673.500</td>\n",
       "    </tr>\n",
       "    <tr>\n",
       "      <th>75%</th>\n",
       "      <td>3.000</td>\n",
       "      <td>13.678</td>\n",
       "      <td>3.083</td>\n",
       "      <td>2.558</td>\n",
       "      <td>21.500</td>\n",
       "      <td>107.000</td>\n",
       "      <td>2.800</td>\n",
       "      <td>2.875</td>\n",
       "      <td>0.438</td>\n",
       "      <td>1.950</td>\n",
       "      <td>6.200</td>\n",
       "      <td>1.120</td>\n",
       "      <td>3.170</td>\n",
       "      <td>985.000</td>\n",
       "    </tr>\n",
       "    <tr>\n",
       "      <th>max</th>\n",
       "      <td>3.000</td>\n",
       "      <td>14.830</td>\n",
       "      <td>5.800</td>\n",
       "      <td>3.230</td>\n",
       "      <td>30.000</td>\n",
       "      <td>162.000</td>\n",
       "      <td>3.880</td>\n",
       "      <td>5.080</td>\n",
       "      <td>0.660</td>\n",
       "      <td>3.580</td>\n",
       "      <td>13.000</td>\n",
       "      <td>1.710</td>\n",
       "      <td>4.000</td>\n",
       "      <td>1680.000</td>\n",
       "    </tr>\n",
       "  </tbody>\n",
       "</table>\n",
       "</div>"
      ],
      "text/plain": [
       "          Name  Alcohol  MalicAcid      Ash  AlcalinityOfAsh  Magnesium  \\\n",
       "count  178.000  178.000    178.000  178.000          178.000    178.000   \n",
       "mean     1.938   13.001      2.336    2.367           19.495     99.742   \n",
       "std      0.775    0.812      1.117    0.274            3.340     14.282   \n",
       "min      1.000   11.030      0.740    1.360           10.600     70.000   \n",
       "25%      1.000   12.362      1.603    2.210           17.200     88.000   \n",
       "50%      2.000   13.050      1.865    2.360           19.500     98.000   \n",
       "75%      3.000   13.678      3.083    2.558           21.500    107.000   \n",
       "max      3.000   14.830      5.800    3.230           30.000    162.000   \n",
       "\n",
       "       TotalPhenols  Flavanoids  NonFlavanoidPhenols  Proanthocyanins  \\\n",
       "count       178.000     178.000              178.000          178.000   \n",
       "mean          2.295       2.029                0.362            1.591   \n",
       "std           0.626       0.999                0.124            0.572   \n",
       "min           0.980       0.340                0.130            0.410   \n",
       "25%           1.742       1.205                0.270            1.250   \n",
       "50%           2.355       2.135                0.340            1.555   \n",
       "75%           2.800       2.875                0.438            1.950   \n",
       "max           3.880       5.080                0.660            3.580   \n",
       "\n",
       "       ColorIntensity      Hue  OD280/OD315   Proline  \n",
       "count         178.000  178.000      178.000   178.000  \n",
       "mean            5.058    0.957        2.612   746.893  \n",
       "std             2.318    0.229        0.710   314.907  \n",
       "min             1.280    0.480        1.270   278.000  \n",
       "25%             3.220    0.782        1.938   500.500  \n",
       "50%             4.690    0.965        2.780   673.500  \n",
       "75%             6.200    1.120        3.170   985.000  \n",
       "max            13.000    1.710        4.000  1680.000  "
      ]
     },
     "execution_count": 4,
     "metadata": {},
     "output_type": "execute_result"
    }
   ],
   "source": [
    "wine.describe()"
   ]
  },
  {
   "cell_type": "markdown",
   "metadata": {},
   "source": [
    "## 2. PCA"
   ]
  },
  {
   "cell_type": "code",
   "execution_count": 5,
   "metadata": {},
   "outputs": [],
   "source": [
    "from sklearn.model_selection import train_test_split\n",
    "from sklearn.preprocessing import StandardScaler\n",
    "\n",
    "X = wine.iloc[:,1:] \n",
    "y = wine.iloc[:,0]\n",
    "\n",
    "X_train, X_test, y_train, y_test = train_test_split(X, y, test_size = 0.3, random_state = 14, stratify = y)\n",
    "\n",
    "# PCA 시 Standard Scaling이 필수!\n",
    "X_train_scaled = StandardScaler().fit_transform(X_train)\n",
    "X_test_scaled = StandardScaler().fit_transform(X_test)"
   ]
  },
  {
   "cell_type": "code",
   "execution_count": 6,
   "metadata": {},
   "outputs": [
    {
     "data": {
      "text/plain": [
       "[4.928023691631202,\n",
       " 2.4738364033982143,\n",
       " 1.4893951372526286,\n",
       " 0.985696111486994,\n",
       " 0.8517559482742454,\n",
       " 0.5858180912927305,\n",
       " 0.4365298556460181,\n",
       " 0.34368180802571124,\n",
       " 0.2923261011198424,\n",
       " 0.2569821861134573,\n",
       " 0.20024556720107642,\n",
       " 0.16975454422410577,\n",
       " 0.09164561124435035]"
      ]
     },
     "execution_count": 6,
     "metadata": {},
     "output_type": "execute_result"
    }
   ],
   "source": [
    "# 가장 큰 고유값들 순서로 뽑아내보자.\n",
    "\n",
    "X_train_scaled = pd.DataFrame(data=X_train_scaled, columns=wine.columns[1:])\n",
    "cov_mat = np.cov(X_train_scaled.T)\n",
    "eig_vals, eig_vecs = np.linalg.eig(cov_mat)\n",
    "eig_vals_ = sorted(eig_vals, reverse = True)\n",
    "eig_vals_"
   ]
  },
  {
   "cell_type": "code",
   "execution_count": 7,
   "metadata": {},
   "outputs": [
    {
     "data": {
      "text/plain": [
       "<matplotlib.axes._subplots.AxesSubplot at 0x24fc35e90f0>"
      ]
     },
     "execution_count": 7,
     "metadata": {},
     "output_type": "execute_result"
    },
    {
     "data": {
      "image/png": "[encoded data removed]",
      "text/plain": [
       "<Figure size 432x288 with 1 Axes>"
      ]
     },
     "metadata": {
      "needs_background": "light"
     },
     "output_type": "display_data"
    }
   ],
   "source": [
    "# visualization of eigenvalues\n",
    "\n",
    "sns.lineplot(x = range(1, 14), y = eig_vals_, color = 'g', marker = 'o')"
   ]
  },
  {
   "cell_type": "code",
   "execution_count": 8,
   "metadata": {},
   "outputs": [
    {
     "data": {
      "text/plain": [
       "array([0.376, 0.565, 0.678, 0.754, 0.819, 0.863, 0.897, 0.923, 0.945,\n",
       "       0.965, 0.98 , 0.993, 1.   ])"
      ]
     },
     "execution_count": 8,
     "metadata": {},
     "output_type": "execute_result"
    }
   ],
   "source": [
    "from sklearn.decomposition import PCA\n",
    "pca = PCA() \n",
    "X_pca = pca.fit_transform(X_train_scaled) \n",
    "\n",
    "np.cumsum(pca.explained_variance_ratio_) \n",
    "\n",
    "# PC의 개수는 eigenvalue > 1 이거나 누적 explained variance > 최소 70~80% 인 지점을 선택해준다.\n",
    "# eigenvalue > 1 이면 component 3개이나 그러면 explained variance가 작다. 따라서 4개 선정."
   ]
  },
  {
   "cell_type": "code",
   "execution_count": 9,
   "metadata": {},
   "outputs": [
    {
     "name": "stdout",
     "output_type": "stream",
     "text": [
      "Logit Train - PCA : 1.0\n",
      "Logit Test - PCA : 0.9259259259259259\n"
     ]
    }
   ],
   "source": [
    "# Pipeline을 통해서 한꺼번에 돌려보자.\n",
    "# Logistic Regression\n",
    "\n",
    "from sklearn.pipeline import Pipeline\n",
    "from sklearn.linear_model import LogisticRegression as LR\n",
    "\n",
    "pca_pipe_1 = Pipeline([('scaler', StandardScaler()), ('pca', PCA(n_components = 4)),\n",
    "                    ('estimator', LR(solver='sag', max_iter=10000, multi_class='auto'))])\n",
    "pca_pipe_1.fit(X_train, y_train)\n",
    "\n",
    "print('Logit Train - PCA :', pca_pipe_1.score(X_train, y_train))\n",
    "print('Logit Test - PCA :', pca_pipe_1.score(X_test, y_test))"
   ]
  },
  {
   "cell_type": "code",
   "execution_count": 10,
   "metadata": {},
   "outputs": [
    {
     "name": "stdout",
     "output_type": "stream",
     "text": [
      "LDA Train - PCA : 0.9596774193548387\n",
      "LDA Test - PCA : 0.9074074074074074\n"
     ]
    }
   ],
   "source": [
    "# LDA\n",
    "\n",
    "from sklearn.discriminant_analysis import LinearDiscriminantAnalysis as LDA\n",
    "\n",
    "pca_pipe_2 = Pipeline([('scaler', StandardScaler()), ('pca', PCA(n_components = 4)),\n",
    "                    ('estimator', LDA())])\n",
    "pca_pipe_2.fit(X_train, y_train)\n",
    "\n",
    "print('LDA Train - PCA :', pca_pipe_2.score(X_train, y_train))\n",
    "print('LDA Test - PCA :', pca_pipe_2.score(X_test, y_test))"
   ]
  },
  {
   "cell_type": "code",
   "execution_count": 11,
   "metadata": {},
   "outputs": [
    {
     "name": "stdout",
     "output_type": "stream",
     "text": [
      "QDA Train - PCA : 0.9838709677419355\n",
      "QDA Test - PCA : 0.8888888888888888\n"
     ]
    }
   ],
   "source": [
    "# QDA\n",
    "\n",
    "from sklearn.discriminant_analysis import QuadraticDiscriminantAnalysis as QDA\n",
    "pca_pipe_3 = Pipeline([('scaler', StandardScaler()), ('pca', PCA(n_components = 4)),\n",
    "                    ('estimator', QDA())])\n",
    "pca_pipe_3.fit(X_train, y_train)\n",
    "\n",
    "print('QDA Train - PCA :', pca_pipe_3.score(X_train, y_train))\n",
    "print('QDA Test - PCA :', pca_pipe_3.score(X_test, y_test))"
   ]
  },
  {
   "cell_type": "markdown",
   "metadata": {},
   "source": [
    "PC를 4개 선정했을 때 optimal한 방식은 Logistic Regression으로 보인다. \n",
    "Logistic Regression에서 굳이 polynomial features를 안해본 이유는...QDA test score가 제일 낮아서..."
   ]
  },
  {
   "cell_type": "markdown",
   "metadata": {},
   "source": [
    "## 3. FA"
   ]
  },
  {
   "cell_type": "code",
   "execution_count": 12,
   "metadata": {},
   "outputs": [],
   "source": [
    "# PCA하듯 FA도 해주면 된다.\n",
    "\n",
    "from sklearn.decomposition import FactorAnalysis as FA\n",
    "\n",
    "fa = FA()\n",
    "X_fa = fa.fit_transform(X)"
   ]
  },
  {
   "cell_type": "code",
   "execution_count": 13,
   "metadata": {},
   "outputs": [
    {
     "data": {
      "text/html": [
       "<div>\n",
       "<style scoped>\n",
       "    .dataframe tbody tr th:only-of-type {\n",
       "        vertical-align: middle;\n",
       "    }\n",
       "\n",
       "    .dataframe tbody tr th {\n",
       "        vertical-align: top;\n",
       "    }\n",
       "\n",
       "    .dataframe thead th {\n",
       "        text-align: right;\n",
       "    }\n",
       "</style>\n",
       "<table border=\"1\" class=\"dataframe\">\n",
       "  <thead>\n",
       "    <tr style=\"text-align: right;\">\n",
       "      <th></th>\n",
       "      <th>0</th>\n",
       "      <th>1</th>\n",
       "      <th>2</th>\n",
       "      <th>3</th>\n",
       "      <th>4</th>\n",
       "      <th>5</th>\n",
       "      <th>6</th>\n",
       "      <th>7</th>\n",
       "      <th>8</th>\n",
       "      <th>9</th>\n",
       "      <th>10</th>\n",
       "      <th>11</th>\n",
       "      <th>12</th>\n",
       "    </tr>\n",
       "  </thead>\n",
       "  <tbody>\n",
       "    <tr>\n",
       "      <th>0</th>\n",
       "      <td>1.014</td>\n",
       "      <td>1.635</td>\n",
       "      <td>-0.973</td>\n",
       "      <td>-0.188</td>\n",
       "      <td>0.675</td>\n",
       "      <td>0.282</td>\n",
       "      <td>-0.224</td>\n",
       "      <td>0.0</td>\n",
       "      <td>0.0</td>\n",
       "      <td>0.0</td>\n",
       "      <td>0.0</td>\n",
       "      <td>0.0</td>\n",
       "      <td>0.0</td>\n",
       "    </tr>\n",
       "    <tr>\n",
       "      <th>1</th>\n",
       "      <td>0.965</td>\n",
       "      <td>-0.411</td>\n",
       "      <td>-1.859</td>\n",
       "      <td>-0.935</td>\n",
       "      <td>-0.337</td>\n",
       "      <td>0.218</td>\n",
       "      <td>-0.139</td>\n",
       "      <td>0.0</td>\n",
       "      <td>0.0</td>\n",
       "      <td>0.0</td>\n",
       "      <td>0.0</td>\n",
       "      <td>0.0</td>\n",
       "      <td>0.0</td>\n",
       "    </tr>\n",
       "    <tr>\n",
       "      <th>2</th>\n",
       "      <td>1.395</td>\n",
       "      <td>-0.495</td>\n",
       "      <td>0.211</td>\n",
       "      <td>0.645</td>\n",
       "      <td>0.470</td>\n",
       "      <td>0.110</td>\n",
       "      <td>0.126</td>\n",
       "      <td>0.0</td>\n",
       "      <td>0.0</td>\n",
       "      <td>0.0</td>\n",
       "      <td>0.0</td>\n",
       "      <td>0.0</td>\n",
       "      <td>0.0</td>\n",
       "    </tr>\n",
       "    <tr>\n",
       "      <th>3</th>\n",
       "      <td>2.335</td>\n",
       "      <td>0.016</td>\n",
       "      <td>0.223</td>\n",
       "      <td>0.008</td>\n",
       "      <td>0.941</td>\n",
       "      <td>0.205</td>\n",
       "      <td>0.215</td>\n",
       "      <td>0.0</td>\n",
       "      <td>0.0</td>\n",
       "      <td>0.0</td>\n",
       "      <td>0.0</td>\n",
       "      <td>0.0</td>\n",
       "      <td>0.0</td>\n",
       "    </tr>\n",
       "    <tr>\n",
       "      <th>4</th>\n",
       "      <td>-0.037</td>\n",
       "      <td>1.410</td>\n",
       "      <td>0.093</td>\n",
       "      <td>0.744</td>\n",
       "      <td>0.434</td>\n",
       "      <td>0.305</td>\n",
       "      <td>-0.592</td>\n",
       "      <td>0.0</td>\n",
       "      <td>0.0</td>\n",
       "      <td>0.0</td>\n",
       "      <td>0.0</td>\n",
       "      <td>0.0</td>\n",
       "      <td>0.0</td>\n",
       "    </tr>\n",
       "  </tbody>\n",
       "</table>\n",
       "</div>"
      ],
      "text/plain": [
       "      0      1      2      3      4      5      6    7    8    9    10   11  \\\n",
       "0  1.014  1.635 -0.973 -0.188  0.675  0.282 -0.224  0.0  0.0  0.0  0.0  0.0   \n",
       "1  0.965 -0.411 -1.859 -0.935 -0.337  0.218 -0.139  0.0  0.0  0.0  0.0  0.0   \n",
       "2  1.395 -0.495  0.211  0.645  0.470  0.110  0.126  0.0  0.0  0.0  0.0  0.0   \n",
       "3  2.335  0.016  0.223  0.008  0.941  0.205  0.215  0.0  0.0  0.0  0.0  0.0   \n",
       "4 -0.037  1.410  0.093  0.744  0.434  0.305 -0.592  0.0  0.0  0.0  0.0  0.0   \n",
       "\n",
       "    12  \n",
       "0  0.0  \n",
       "1  0.0  \n",
       "2  0.0  \n",
       "3  0.0  \n",
       "4  0.0  "
      ]
     },
     "execution_count": 13,
     "metadata": {},
     "output_type": "execute_result"
    }
   ],
   "source": [
    "df_fa = pd.DataFrame(data=X_fa)\n",
    "df_fa.head()\n",
    "\n",
    "# Factor는 7개로 선정해준다."
   ]
  },
  {
   "cell_type": "code",
   "execution_count": 14,
   "metadata": {},
   "outputs": [
    {
     "data": {
      "image/png": "[encoded data removed]",
      "text/plain": [
       "<Figure size 432x288 with 1 Axes>"
      ]
     },
     "metadata": {
      "needs_background": "light"
     },
     "output_type": "display_data"
    }
   ],
   "source": [
    "# LAB에 있는 것 그대로 돌려보기.\n",
    "\n",
    "from factor_analyzer import FactorAnalyzer\n",
    "fa_1 = FactorAnalyzer(rotation='varimax')\n",
    "fa_1.fit(X)\n",
    "ev, v = fa_1.get_eigenvalues()\n",
    "xvals = range(1, X.shape[1]+1)\n",
    "\n",
    "plt.scatter(xvals, ev)\n",
    "plt.plot(xvals, ev)\n",
    "plt.title('Scree Plot')\n",
    "plt.xlabel('Factor')\n",
    "plt.ylabel('Eigenvalue')\n",
    "plt.grid()\n",
    "plt.show()"
   ]
  },
  {
   "cell_type": "code",
   "execution_count": 15,
   "metadata": {},
   "outputs": [
    {
     "name": "stdout",
     "output_type": "stream",
     "text": [
      "Logit Train - FA : 1.0\n",
      "Logit Test - FA : 0.9074074074074074\n"
     ]
    }
   ],
   "source": [
    "# Logistic Regression\n",
    "\n",
    "pca_pipe_4 = Pipeline([('fa', FA(n_components = 7)),\n",
    "                    ('estimator', LR(solver='sag', max_iter=10000, multi_class='auto'))])\n",
    "pca_pipe_4.fit(X_train, y_train)\n",
    "pca_pipe_4.score(X_test, y_test)\n",
    "\n",
    "print('Logit Train - FA :', pca_pipe_4.score(X_train, y_train))\n",
    "print('Logit Test - FA :', pca_pipe_4.score(X_test, y_test))"
   ]
  },
  {
   "cell_type": "code",
   "execution_count": 16,
   "metadata": {},
   "outputs": [
    {
     "name": "stdout",
     "output_type": "stream",
     "text": [
      "LDA Train - FA : 0.9838709677419355\n",
      "LDA Test - FA : 0.9259259259259259\n"
     ]
    }
   ],
   "source": [
    "# LDA\n",
    "\n",
    "pca_pipe_5 = Pipeline([('fa', FA(n_components = 7)), ('estimator', LDA())])\n",
    "pca_pipe_5.fit(X_train, y_train)\n",
    "\n",
    "print('LDA Train - FA :', pca_pipe_5.score(X_train, y_train))\n",
    "print('LDA Test - FA :', pca_pipe_5.score(X_test, y_test))"
   ]
  },
  {
   "cell_type": "code",
   "execution_count": 17,
   "metadata": {},
   "outputs": [
    {
     "name": "stdout",
     "output_type": "stream",
     "text": [
      "QDA Train - FA : 1.0\n",
      "QDA Test - FA : 0.9814814814814815\n"
     ]
    }
   ],
   "source": [
    "# QDA\n",
    "\n",
    "pca_pipe_6 = Pipeline([('fa', FA(n_components = 7)), ('estimator', QDA())])\n",
    "pca_pipe_6.fit(X_train, y_train)\n",
    "\n",
    "print('QDA Train - FA :', pca_pipe_6.score(X_train, y_train))\n",
    "print('QDA Test - FA :', pca_pipe_6.score(X_test, y_test))"
   ]
  },
  {
   "cell_type": "markdown",
   "metadata": {},
   "source": [
    "Factor을 7개 선정했을 때 QDA가 제일 나은 방식으로 보인다. Quadratic일 때 score가 더 높으므로 여기서는 Logistic Regression w/ Polynomial Features까지도 고려를 해 보자."
   ]
  },
  {
   "cell_type": "code",
   "execution_count": 18,
   "metadata": {},
   "outputs": [
    {
     "name": "stdout",
     "output_type": "stream",
     "text": [
      "Logit Poly2 Train - FA : 1.0\n",
      "Logit Poly2 Test - FA : 0.9259259259259259\n",
      "Logit Poly3 Train - FA : 1.0\n",
      "Logit Poly3 Test - FA : 0.9074074074074074\n"
     ]
    }
   ],
   "source": [
    "# Logistic Regression w/ Polynomial Features\n",
    "\n",
    "from sklearn.preprocessing import PolynomialFeatures\n",
    "\n",
    "pca_pipe_7 = Pipeline([('fa', FA(n_components = 7)), ('poly', PolynomialFeatures(degree = 2)),\n",
    "                    ('estimator', LR(solver='sag', max_iter=10000, multi_class='auto'))])\n",
    "pca_pipe_7.fit(X_train, y_train)\n",
    "\n",
    "\n",
    "pca_pipe_8 = Pipeline([('fa', FA(n_components = 7)), ('poly', PolynomialFeatures(degree = 3)),\n",
    "                    ('estimator', LR(solver='sag', max_iter=10000, multi_class='auto'))])\n",
    "pca_pipe_8.fit(X_train, y_train)\n",
    "\n",
    "print('Logit Poly2 Train - FA :', pca_pipe_7.score(X_train, y_train))\n",
    "print('Logit Poly2 Test - FA :', pca_pipe_7.score(X_test, y_test))\n",
    "\n",
    "print('Logit Poly3 Train - FA :', pca_pipe_8.score(X_train, y_train))\n",
    "print('Logit Poly3 Test - FA :', pca_pipe_8.score(X_test, y_test))\n"
   ]
  },
  {
   "cell_type": "markdown",
   "metadata": {},
   "source": [
    "하는 김에 3차까지 해보았으나 성능은 2차식에서 살짝 올라가나 3차에서는 그냥 그런 것으로 나타난다.\n",
    "\n",
    "따라서 PCA에서는 Logistic Regression이, FA에서는 QDA가 가장 적합한 것으로 결론낼 수 있다."
   ]
  },
  {
   "cell_type": "markdown",
   "metadata": {},
   "source": [
    "## 4. Comparison with Past Analysis"
   ]
  },
  {
   "cell_type": "markdown",
   "metadata": {},
   "source": [
    "Week 3에서의 Feature Selection은 Univariate Selection w/ SelectKBest, Feature Importance w/ ExtraTreesClassifier 두 가지 방법으로 중복 선정된 상위 5개의 변수를 선정한 후 각각 Logistic Regression, LDA, QDA를 적용해보았다. "
   ]
  },
  {
   "cell_type": "markdown",
   "metadata": {},
   "source": [
    "Logistic Regression의 경우 아래의 결과로 나온다.\n",
    "\n",
    "Week 3\n",
    "Logit Train : 0.9435 / Logit Test : 0.9630\n",
    "\n",
    "PCA\n",
    "Logit Train : 1.0 / Logit Test : 0.9259\n",
    "\n",
    "FA\n",
    "Logit Train : 1.0 / Logit Test : 0.9074\n",
    "\n",
    "PCA나 FA의 경우 Train Set에서 완벽한 classification을 하지만 Test Set에서는 이보다 낮은 score을 갖는다. 하지만 Week 3에서는 Train Set에서는 다소 떨어지지만, Test에서 더 좋은 성능을 발휘한다고 할 수 있다."
   ]
  },
  {
   "cell_type": "markdown",
   "metadata": {},
   "source": [
    "LDA의 경우 아래의 결과로 나온다.\n",
    "\n",
    "Week 3\n",
    "LDA Train : 0.9113 / LDA Test : 0.9630\n",
    "\n",
    "PCA\n",
    "LDA Train : 0.9597 / LDA Test : 0.9074\n",
    "\n",
    "FA\n",
    "LDA Train : 0.9839 / LDA Test : 0.9259\n",
    "\n",
    "전반적으로 Logistic Regression의 경우와 비슷하게 나타난다. Train Set의 경우 PCA, FA에서 높게 나타나지만 Test Set의 경우 Week 3이 더 좋은 성능을 내고 있음을 보여주고 있다. 그러나 Logistic Regression의 경우와 비교해서 PCA가 FA보다 성능이 조금 떨어지는 것으로 나타났다."
   ]
  },
  {
   "cell_type": "markdown",
   "metadata": {},
   "source": [
    "QDA의 경우 아래의 결과로 나온다.\n",
    "\n",
    "Week 3\n",
    "QDA Train : 0.9758 / QDA Test : 0.9815\n",
    "\n",
    "PCA\n",
    "QDA Train : 0.9839 / QDA Test : 0.8889\n",
    "\n",
    "FA\n",
    "QDA Train : 1.0 / QDA Test : 0.9815\n",
    "\n",
    "Week 3와 FA가 전체에서 가장 좋은 Test Score을 보이고 있으며 PCA는 전체에서 가장 낮은 Test Score을 보이고 있다. 그러나 PCA는 PC를 4개 선정한 것에 비해 Week 3는 변수 5개, FA는 Factor 7개를 선정하였으므로 과적합의 문제가 있을 수 있다고 생각한다. 이는 더 많은 자료가 확보되었을 때의 Test Score로 확인이 가능할 것이다."
   ]
  }
 ],
 "metadata": {
  "kernelspec": {
   "display_name": "Python 3",
   "language": "python",
   "name": "python3"
  },
  "language_info": {
   "codemirror_mode": {
    "name": "ipython",
    "version": 3
   },
   "file_extension": ".py",
   "mimetype": "text/x-python",
   "name": "python",
   "nbconvert_exporter": "python",
   "pygments_lexer": "ipython3",
   "version": "3.7.3"
  }
 },
 "nbformat": 4,
 "nbformat_minor": 2
}
