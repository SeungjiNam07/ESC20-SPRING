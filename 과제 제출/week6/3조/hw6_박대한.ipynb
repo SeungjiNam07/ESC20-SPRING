{
  "nbformat": 4,
  "nbformat_minor": 0,
  "metadata": {
    "colab": {
      "name": "hw6_박대한.ipynb",
      "provenance": [],
      "collapsed_sections": []
    },
    "kernelspec": {
      "name": "python3",
      "display_name": "Python 3"
    }
  },
  "cells": [
    {
      "cell_type": "code",
      "metadata": {
        "id": "0pmotuuIxKa2",
        "colab_type": "code",
        "colab": {}
      },
      "source": [
        "import pandas as pd\n",
        "import numpy as np\n",
        "import matplotlib.pyplot as plt\n",
        "import seaborn as sns\n",
        "from sklearn.datasets import load_wine\n",
        "from sklearn.decomposition import PCA, FactorAnalysis\n",
        "from sklearn.preprocessing import StandardScaler\n",
        "from sklearn.model_selection import train_test_split\n",
        "%matplotlib inline\n",
        "\n",
        "from sklearn.linear_model import LogisticRegression\n",
        "from sklearn.metrics import confusion_matrix\n",
        "from sklearn.metrics import accuracy_score"
      ],
      "execution_count": 0,
      "outputs": []
    },
    {
      "cell_type": "code",
      "metadata": {
        "id": "2F_hw1Wbx0yk",
        "colab_type": "code",
        "colab": {
          "base_uri": "https://localhost:8080/",
          "height": 224
        },
        "outputId": "a91f9bc4-0d48-4030-b469-57947ef0a58c"
      },
      "source": [
        "from sklearn.datasets import load_wine\n",
        "wine = load_wine()\n",
        "df = pd.DataFrame(data=np.c_[wine['data'], wine['target']], columns=wine['feature_names']+['target'])\n",
        "df['target'] = df['target'].map({0:'class_0', 1:'class_1', 2:'class_2'})\n",
        "df.head()"
      ],
      "execution_count": 41,
      "outputs": [
        {
          "output_type": "execute_result",
          "data": {
            "text/html": [
              "<div>\n",
              "<style scoped>\n",
              "    .dataframe tbody tr th:only-of-type {\n",
              "        vertical-align: middle;\n",
              "    }\n",
              "\n",
              "    .dataframe tbody tr th {\n",
              "        vertical-align: top;\n",
              "    }\n",
              "\n",
              "    .dataframe thead th {\n",
              "        text-align: right;\n",
              "    }\n",
              "</style>\n",
              "<table border=\"1\" class=\"dataframe\">\n",
              "  <thead>\n",
              "    <tr style=\"text-align: right;\">\n",
              "      <th></th>\n",
              "      <th>alcohol</th>\n",
              "      <th>malic_acid</th>\n",
              "      <th>ash</th>\n",
              "      <th>alcalinity_of_ash</th>\n",
              "      <th>magnesium</th>\n",
              "      <th>total_phenols</th>\n",
              "      <th>flavanoids</th>\n",
              "      <th>nonflavanoid_phenols</th>\n",
              "      <th>proanthocyanins</th>\n",
              "      <th>color_intensity</th>\n",
              "      <th>hue</th>\n",
              "      <th>od280/od315_of_diluted_wines</th>\n",
              "      <th>proline</th>\n",
              "      <th>target</th>\n",
              "    </tr>\n",
              "  </thead>\n",
              "  <tbody>\n",
              "    <tr>\n",
              "      <th>0</th>\n",
              "      <td>14.23</td>\n",
              "      <td>1.71</td>\n",
              "      <td>2.43</td>\n",
              "      <td>15.6</td>\n",
              "      <td>127.0</td>\n",
              "      <td>2.80</td>\n",
              "      <td>3.06</td>\n",
              "      <td>0.28</td>\n",
              "      <td>2.29</td>\n",
              "      <td>5.64</td>\n",
              "      <td>1.04</td>\n",
              "      <td>3.92</td>\n",
              "      <td>1065.0</td>\n",
              "      <td>class_0</td>\n",
              "    </tr>\n",
              "    <tr>\n",
              "      <th>1</th>\n",
              "      <td>13.20</td>\n",
              "      <td>1.78</td>\n",
              "      <td>2.14</td>\n",
              "      <td>11.2</td>\n",
              "      <td>100.0</td>\n",
              "      <td>2.65</td>\n",
              "      <td>2.76</td>\n",
              "      <td>0.26</td>\n",
              "      <td>1.28</td>\n",
              "      <td>4.38</td>\n",
              "      <td>1.05</td>\n",
              "      <td>3.40</td>\n",
              "      <td>1050.0</td>\n",
              "      <td>class_0</td>\n",
              "    </tr>\n",
              "    <tr>\n",
              "      <th>2</th>\n",
              "      <td>13.16</td>\n",
              "      <td>2.36</td>\n",
              "      <td>2.67</td>\n",
              "      <td>18.6</td>\n",
              "      <td>101.0</td>\n",
              "      <td>2.80</td>\n",
              "      <td>3.24</td>\n",
              "      <td>0.30</td>\n",
              "      <td>2.81</td>\n",
              "      <td>5.68</td>\n",
              "      <td>1.03</td>\n",
              "      <td>3.17</td>\n",
              "      <td>1185.0</td>\n",
              "      <td>class_0</td>\n",
              "    </tr>\n",
              "    <tr>\n",
              "      <th>3</th>\n",
              "      <td>14.37</td>\n",
              "      <td>1.95</td>\n",
              "      <td>2.50</td>\n",
              "      <td>16.8</td>\n",
              "      <td>113.0</td>\n",
              "      <td>3.85</td>\n",
              "      <td>3.49</td>\n",
              "      <td>0.24</td>\n",
              "      <td>2.18</td>\n",
              "      <td>7.80</td>\n",
              "      <td>0.86</td>\n",
              "      <td>3.45</td>\n",
              "      <td>1480.0</td>\n",
              "      <td>class_0</td>\n",
              "    </tr>\n",
              "    <tr>\n",
              "      <th>4</th>\n",
              "      <td>13.24</td>\n",
              "      <td>2.59</td>\n",
              "      <td>2.87</td>\n",
              "      <td>21.0</td>\n",
              "      <td>118.0</td>\n",
              "      <td>2.80</td>\n",
              "      <td>2.69</td>\n",
              "      <td>0.39</td>\n",
              "      <td>1.82</td>\n",
              "      <td>4.32</td>\n",
              "      <td>1.04</td>\n",
              "      <td>2.93</td>\n",
              "      <td>735.0</td>\n",
              "      <td>class_0</td>\n",
              "    </tr>\n",
              "  </tbody>\n",
              "</table>\n",
              "</div>"
            ],
            "text/plain": [
              "   alcohol  malic_acid   ash  ...  od280/od315_of_diluted_wines  proline   target\n",
              "0    14.23        1.71  2.43  ...                          3.92   1065.0  class_0\n",
              "1    13.20        1.78  2.14  ...                          3.40   1050.0  class_0\n",
              "2    13.16        2.36  2.67  ...                          3.17   1185.0  class_0\n",
              "3    14.37        1.95  2.50  ...                          3.45   1480.0  class_0\n",
              "4    13.24        2.59  2.87  ...                          2.93    735.0  class_0\n",
              "\n",
              "[5 rows x 14 columns]"
            ]
          },
          "metadata": {
            "tags": []
          },
          "execution_count": 41
        }
      ]
    },
    {
      "cell_type": "code",
      "metadata": {
        "id": "6cW14dJNx02f",
        "colab_type": "code",
        "colab": {
          "base_uri": "https://localhost:8080/",
          "height": 35
        },
        "outputId": "d51a8773-7c27-4bc3-d980-17ef2cb3329e"
      },
      "source": [
        "df.shape"
      ],
      "execution_count": 42,
      "outputs": [
        {
          "output_type": "execute_result",
          "data": {
            "text/plain": [
              "(178, 14)"
            ]
          },
          "metadata": {
            "tags": []
          },
          "execution_count": 42
        }
      ]
    },
    {
      "cell_type": "code",
      "metadata": {
        "id": "VX2CSceXx098",
        "colab_type": "code",
        "colab": {
          "base_uri": "https://localhost:8080/",
          "height": 317
        },
        "outputId": "a86b7752-7ec2-4aaf-f183-1e90463dca7f"
      },
      "source": [
        "df.describe()"
      ],
      "execution_count": 43,
      "outputs": [
        {
          "output_type": "execute_result",
          "data": {
            "text/html": [
              "<div>\n",
              "<style scoped>\n",
              "    .dataframe tbody tr th:only-of-type {\n",
              "        vertical-align: middle;\n",
              "    }\n",
              "\n",
              "    .dataframe tbody tr th {\n",
              "        vertical-align: top;\n",
              "    }\n",
              "\n",
              "    .dataframe thead th {\n",
              "        text-align: right;\n",
              "    }\n",
              "</style>\n",
              "<table border=\"1\" class=\"dataframe\">\n",
              "  <thead>\n",
              "    <tr style=\"text-align: right;\">\n",
              "      <th></th>\n",
              "      <th>alcohol</th>\n",
              "      <th>malic_acid</th>\n",
              "      <th>ash</th>\n",
              "      <th>alcalinity_of_ash</th>\n",
              "      <th>magnesium</th>\n",
              "      <th>total_phenols</th>\n",
              "      <th>flavanoids</th>\n",
              "      <th>nonflavanoid_phenols</th>\n",
              "      <th>proanthocyanins</th>\n",
              "      <th>color_intensity</th>\n",
              "      <th>hue</th>\n",
              "      <th>od280/od315_of_diluted_wines</th>\n",
              "      <th>proline</th>\n",
              "    </tr>\n",
              "  </thead>\n",
              "  <tbody>\n",
              "    <tr>\n",
              "      <th>count</th>\n",
              "      <td>178.000000</td>\n",
              "      <td>178.000000</td>\n",
              "      <td>178.000000</td>\n",
              "      <td>178.000000</td>\n",
              "      <td>178.000000</td>\n",
              "      <td>178.000000</td>\n",
              "      <td>178.000000</td>\n",
              "      <td>178.000000</td>\n",
              "      <td>178.000000</td>\n",
              "      <td>178.000000</td>\n",
              "      <td>178.000000</td>\n",
              "      <td>178.000000</td>\n",
              "      <td>178.000000</td>\n",
              "    </tr>\n",
              "    <tr>\n",
              "      <th>mean</th>\n",
              "      <td>13.000618</td>\n",
              "      <td>2.336348</td>\n",
              "      <td>2.366517</td>\n",
              "      <td>19.494944</td>\n",
              "      <td>99.741573</td>\n",
              "      <td>2.295112</td>\n",
              "      <td>2.029270</td>\n",
              "      <td>0.361854</td>\n",
              "      <td>1.590899</td>\n",
              "      <td>5.058090</td>\n",
              "      <td>0.957449</td>\n",
              "      <td>2.611685</td>\n",
              "      <td>746.893258</td>\n",
              "    </tr>\n",
              "    <tr>\n",
              "      <th>std</th>\n",
              "      <td>0.811827</td>\n",
              "      <td>1.117146</td>\n",
              "      <td>0.274344</td>\n",
              "      <td>3.339564</td>\n",
              "      <td>14.282484</td>\n",
              "      <td>0.625851</td>\n",
              "      <td>0.998859</td>\n",
              "      <td>0.124453</td>\n",
              "      <td>0.572359</td>\n",
              "      <td>2.318286</td>\n",
              "      <td>0.228572</td>\n",
              "      <td>0.709990</td>\n",
              "      <td>314.907474</td>\n",
              "    </tr>\n",
              "    <tr>\n",
              "      <th>min</th>\n",
              "      <td>11.030000</td>\n",
              "      <td>0.740000</td>\n",
              "      <td>1.360000</td>\n",
              "      <td>10.600000</td>\n",
              "      <td>70.000000</td>\n",
              "      <td>0.980000</td>\n",
              "      <td>0.340000</td>\n",
              "      <td>0.130000</td>\n",
              "      <td>0.410000</td>\n",
              "      <td>1.280000</td>\n",
              "      <td>0.480000</td>\n",
              "      <td>1.270000</td>\n",
              "      <td>278.000000</td>\n",
              "    </tr>\n",
              "    <tr>\n",
              "      <th>25%</th>\n",
              "      <td>12.362500</td>\n",
              "      <td>1.602500</td>\n",
              "      <td>2.210000</td>\n",
              "      <td>17.200000</td>\n",
              "      <td>88.000000</td>\n",
              "      <td>1.742500</td>\n",
              "      <td>1.205000</td>\n",
              "      <td>0.270000</td>\n",
              "      <td>1.250000</td>\n",
              "      <td>3.220000</td>\n",
              "      <td>0.782500</td>\n",
              "      <td>1.937500</td>\n",
              "      <td>500.500000</td>\n",
              "    </tr>\n",
              "    <tr>\n",
              "      <th>50%</th>\n",
              "      <td>13.050000</td>\n",
              "      <td>1.865000</td>\n",
              "      <td>2.360000</td>\n",
              "      <td>19.500000</td>\n",
              "      <td>98.000000</td>\n",
              "      <td>2.355000</td>\n",
              "      <td>2.135000</td>\n",
              "      <td>0.340000</td>\n",
              "      <td>1.555000</td>\n",
              "      <td>4.690000</td>\n",
              "      <td>0.965000</td>\n",
              "      <td>2.780000</td>\n",
              "      <td>673.500000</td>\n",
              "    </tr>\n",
              "    <tr>\n",
              "      <th>75%</th>\n",
              "      <td>13.677500</td>\n",
              "      <td>3.082500</td>\n",
              "      <td>2.557500</td>\n",
              "      <td>21.500000</td>\n",
              "      <td>107.000000</td>\n",
              "      <td>2.800000</td>\n",
              "      <td>2.875000</td>\n",
              "      <td>0.437500</td>\n",
              "      <td>1.950000</td>\n",
              "      <td>6.200000</td>\n",
              "      <td>1.120000</td>\n",
              "      <td>3.170000</td>\n",
              "      <td>985.000000</td>\n",
              "    </tr>\n",
              "    <tr>\n",
              "      <th>max</th>\n",
              "      <td>14.830000</td>\n",
              "      <td>5.800000</td>\n",
              "      <td>3.230000</td>\n",
              "      <td>30.000000</td>\n",
              "      <td>162.000000</td>\n",
              "      <td>3.880000</td>\n",
              "      <td>5.080000</td>\n",
              "      <td>0.660000</td>\n",
              "      <td>3.580000</td>\n",
              "      <td>13.000000</td>\n",
              "      <td>1.710000</td>\n",
              "      <td>4.000000</td>\n",
              "      <td>1680.000000</td>\n",
              "    </tr>\n",
              "  </tbody>\n",
              "</table>\n",
              "</div>"
            ],
            "text/plain": [
              "          alcohol  malic_acid  ...  od280/od315_of_diluted_wines      proline\n",
              "count  178.000000  178.000000  ...                    178.000000   178.000000\n",
              "mean    13.000618    2.336348  ...                      2.611685   746.893258\n",
              "std      0.811827    1.117146  ...                      0.709990   314.907474\n",
              "min     11.030000    0.740000  ...                      1.270000   278.000000\n",
              "25%     12.362500    1.602500  ...                      1.937500   500.500000\n",
              "50%     13.050000    1.865000  ...                      2.780000   673.500000\n",
              "75%     13.677500    3.082500  ...                      3.170000   985.000000\n",
              "max     14.830000    5.800000  ...                      4.000000  1680.000000\n",
              "\n",
              "[8 rows x 13 columns]"
            ]
          },
          "metadata": {
            "tags": []
          },
          "execution_count": 43
        }
      ]
    },
    {
      "cell_type": "code",
      "metadata": {
        "id": "txhPXHLMx1Bc",
        "colab_type": "code",
        "colab": {}
      },
      "source": [
        "features = ['alcohol',\n",
        "  'malic_acid',\n",
        "  'ash',\n",
        "  'alcalinity_of_ash',\n",
        "  'magnesium',\n",
        "  'total_phenols',\n",
        "  'flavanoids',\n",
        "  'nonflavanoid_phenols',\n",
        "  'proanthocyanins',\n",
        "  'color_intensity',\n",
        "  'hue',\n",
        "  'od280/od315_of_diluted_wines',\n",
        "  'proline']\n",
        "X = df.loc[:, features].values\n",
        "Y = df.loc[:, ['target']].values"
      ],
      "execution_count": 0,
      "outputs": []
    },
    {
      "cell_type": "code",
      "metadata": {
        "id": "cCi36LK1Al1g",
        "colab_type": "code",
        "colab": {
          "base_uri": "https://localhost:8080/",
          "height": 53
        },
        "outputId": "283fc9c6-2466-44e9-8b0c-34138528b0f6"
      },
      "source": [
        "X_train, X_test, Y_train, Y_test = train_test_split(X, Y, test_size=0.3, random_state= 40)\n",
        "print(X_train.shape) ; print(X_test.shape)"
      ],
      "execution_count": 74,
      "outputs": [
        {
          "output_type": "stream",
          "text": [
            "(124, 13)\n",
            "(54, 13)\n"
          ],
          "name": "stdout"
        }
      ]
    },
    {
      "cell_type": "code",
      "metadata": {
        "id": "8NdGSQXJAl4X",
        "colab_type": "code",
        "colab": {}
      },
      "source": [
        "X_train_scaled = StandardScaler().fit_transform(X_train)\n",
        "X_test_scaled = StandardScaler().fit_transform(X_test)"
      ],
      "execution_count": 0,
      "outputs": []
    },
    {
      "cell_type": "code",
      "metadata": {
        "id": "EHVMjPgeAl7s",
        "colab_type": "code",
        "colab": {
          "base_uri": "https://localhost:8080/",
          "height": 163
        },
        "outputId": "ec7fbc69-677c-4a99-f786-8cc832157a2d"
      },
      "source": [
        "model = LogisticRegression()\n",
        "model.fit(X_train_scaled, Y_train)"
      ],
      "execution_count": 76,
      "outputs": [
        {
          "output_type": "stream",
          "text": [
            "/usr/local/lib/python3.6/dist-packages/sklearn/utils/validation.py:760: DataConversionWarning: A column-vector y was passed when a 1d array was expected. Please change the shape of y to (n_samples, ), for example using ravel().\n",
            "  y = column_or_1d(y, warn=True)\n"
          ],
          "name": "stderr"
        },
        {
          "output_type": "execute_result",
          "data": {
            "text/plain": [
              "LogisticRegression(C=1.0, class_weight=None, dual=False, fit_intercept=True,\n",
              "                   intercept_scaling=1, l1_ratio=None, max_iter=100,\n",
              "                   multi_class='auto', n_jobs=None, penalty='l2',\n",
              "                   random_state=None, solver='lbfgs', tol=0.0001, verbose=0,\n",
              "                   warm_start=False)"
            ]
          },
          "metadata": {
            "tags": []
          },
          "execution_count": 76
        }
      ]
    },
    {
      "cell_type": "code",
      "metadata": {
        "id": "xJ3dEewCBRzx",
        "colab_type": "code",
        "colab": {
          "base_uri": "https://localhost:8080/",
          "height": 53
        },
        "outputId": "a9d8a890-19ca-4f3c-de4b-2e444214e689"
      },
      "source": [
        "print(model.score(X_train_scaled, Y_train))\n",
        "print(model.score(X_test_scaled, Y_test))"
      ],
      "execution_count": 77,
      "outputs": [
        {
          "output_type": "stream",
          "text": [
            "1.0\n",
            "0.9629629629629629\n"
          ],
          "name": "stdout"
        }
      ]
    },
    {
      "cell_type": "code",
      "metadata": {
        "id": "ApD8g2_QDvig",
        "colab_type": "code",
        "colab": {}
      },
      "source": [
        "features = ['alcohol',\n",
        "  'malic_acid',\n",
        "  'ash',\n",
        "  'alcalinity_of_ash',\n",
        "  'magnesium',\n",
        "  'total_phenols',\n",
        "  'flavanoids',\n",
        "  'nonflavanoid_phenols',\n",
        "  'proanthocyanins',\n",
        "  'color_intensity',\n",
        "  'hue',\n",
        "  'od280/od315_of_diluted_wines',\n",
        "  'proline']\n",
        "X = df.loc[:, features].values\n",
        "Y = df.loc[:, ['target']].values\n",
        "X = StandardScaler().fit_transform(X) # Standardization using Standard Scaler"
      ],
      "execution_count": 0,
      "outputs": []
    },
    {
      "cell_type": "code",
      "metadata": {
        "id": "aBjHvRhwAlym",
        "colab_type": "code",
        "colab": {
          "base_uri": "https://localhost:8080/",
          "height": 719
        },
        "outputId": "cd4c1284-e1bf-4fba-dbb7-2ffc9dbf1d17"
      },
      "source": [
        "covariance_matrix = np.cov(X.T)\n",
        "\n",
        "print(covariance_matrix)"
      ],
      "execution_count": 100,
      "outputs": [
        {
          "output_type": "stream",
          "text": [
            "[[ 1.00564972  0.09493026  0.21273976 -0.31198788  0.27232816  0.29073446\n",
            "   0.23815287 -0.15681042  0.13747022  0.549451   -0.07215255  0.07275191\n",
            "   0.64735687]\n",
            " [ 0.09493026  1.00564972  0.16497228  0.29013035 -0.05488343 -0.3370606\n",
            "  -0.41332866  0.29463237 -0.22199334  0.25039204 -0.56446685 -0.37079354\n",
            "  -0.19309537]\n",
            " [ 0.21273976  0.16497228  1.00564972  0.44587209  0.28820583  0.12970824\n",
            "   0.11572743  0.1872826   0.00970647  0.2603499  -0.07508874  0.00393333\n",
            "   0.22488969]\n",
            " [-0.31198788  0.29013035  0.44587209  1.00564972 -0.0838039  -0.32292752\n",
            "  -0.353355    0.36396647 -0.19844168  0.01883781 -0.27550299 -0.27833221\n",
            "  -0.44308618]\n",
            " [ 0.27232816 -0.05488343  0.28820583 -0.0838039   1.00564972  0.21561254\n",
            "   0.19688989 -0.25774204  0.23777643  0.20107967  0.05571118  0.06637684\n",
            "   0.39557317]\n",
            " [ 0.29073446 -0.3370606   0.12970824 -0.32292752  0.21561254  1.00564972\n",
            "   0.86944804 -0.45247731  0.61587304 -0.05544792  0.43613151  0.70390388\n",
            "   0.50092909]\n",
            " [ 0.23815287 -0.41332866  0.11572743 -0.353355    0.19688989  0.86944804\n",
            "   1.00564972 -0.54093859  0.65637929 -0.17335329  0.54654907  0.79164133\n",
            "   0.49698518]\n",
            " [-0.15681042  0.29463237  0.1872826   0.36396647 -0.25774204 -0.45247731\n",
            "  -0.54093859  1.00564972 -0.36791202  0.13984265 -0.26412347 -0.50611293\n",
            "  -0.31314443]\n",
            " [ 0.13747022 -0.22199334  0.00970647 -0.19844168  0.23777643  0.61587304\n",
            "   0.65637929 -0.36791202  1.00564972 -0.02539259  0.29721399  0.52199968\n",
            "   0.33228346]\n",
            " [ 0.549451    0.25039204  0.2603499   0.01883781  0.20107967 -0.05544792\n",
            "  -0.17335329  0.13984265 -0.02539259  1.00564972 -0.52476129 -0.43123763\n",
            "   0.31788599]\n",
            " [-0.07215255 -0.56446685 -0.07508874 -0.27550299  0.05571118  0.43613151\n",
            "   0.54654907 -0.26412347  0.29721399 -0.52476129  1.00564972  0.56866303\n",
            "   0.23751782]\n",
            " [ 0.07275191 -0.37079354  0.00393333 -0.27833221  0.06637684  0.70390388\n",
            "   0.79164133 -0.50611293  0.52199968 -0.43123763  0.56866303  1.00564972\n",
            "   0.31452809]\n",
            " [ 0.64735687 -0.19309537  0.22488969 -0.44308618  0.39557317  0.50092909\n",
            "   0.49698518 -0.31314443  0.33228346  0.31788599  0.23751782  0.31452809\n",
            "   1.00564972]]\n"
          ],
          "name": "stdout"
        }
      ]
    },
    {
      "cell_type": "code",
      "metadata": {
        "id": "VJ0gfysIBzJ3",
        "colab_type": "code",
        "colab": {
          "base_uri": "https://localhost:8080/",
          "height": 773
        },
        "outputId": "9b5f45bb-8490-4d23-d95e-47c104965bf6"
      },
      "source": [
        "eig_vals, eig_vecs = np.linalg.eig(covariance_matrix)\n",
        "\n",
        "print('eigenvalue :', eig_vals) # eigen values\n",
        "print('eigenvector :', eig_vecs) # eigen vectors"
      ],
      "execution_count": 101,
      "outputs": [
        {
          "output_type": "stream",
          "text": [
            "eigenvalue : [4.73243698 2.51108093 1.45424187 0.92416587 0.85804868 0.64528221\n",
            " 0.55414147 0.10396199 0.35046627 0.16972374 0.29051203 0.22706428\n",
            " 0.25232001]\n",
            "eigenvector : [[-0.1443294   0.48365155 -0.20738262  0.0178563  -0.26566365  0.21353865\n",
            "   0.05639636 -0.01496997  0.39613926 -0.26628645 -0.50861912 -0.22591696\n",
            "   0.21160473]\n",
            " [ 0.24518758  0.22493093  0.08901289 -0.53689028  0.03521363  0.53681385\n",
            "  -0.42052391 -0.02596375  0.06582674  0.12169604  0.07528304  0.07648554\n",
            "  -0.30907994]\n",
            " [ 0.00205106  0.31606881  0.6262239   0.21417556 -0.14302547  0.15447466\n",
            "   0.14917061  0.14121803 -0.17026002 -0.04962237  0.30769445 -0.49869142\n",
            "  -0.02712539]\n",
            " [ 0.23932041 -0.0105905   0.61208035 -0.06085941  0.06610294 -0.10082451\n",
            "   0.28696914 -0.09168285  0.42797018 -0.05574287 -0.20044931  0.47931378\n",
            "   0.05279942]\n",
            " [-0.14199204  0.299634    0.13075693  0.35179658  0.72704851  0.03814394\n",
            "  -0.3228833  -0.05677422 -0.15636143  0.06222011 -0.27140257  0.07128891\n",
            "   0.06787022]\n",
            " [-0.39466085  0.06503951  0.14617896 -0.19806835 -0.14931841 -0.0841223\n",
            "   0.02792498  0.46390791 -0.40593409 -0.30388245 -0.28603452  0.30434119\n",
            "  -0.32013135]\n",
            " [-0.4229343  -0.00335981  0.1506819  -0.15229479 -0.10902584 -0.01892002\n",
            "   0.06068521 -0.83225706 -0.18724536 -0.04289883 -0.04957849 -0.02569409\n",
            "  -0.16315051]\n",
            " [ 0.2985331   0.02877949  0.17036816  0.20330102 -0.50070298 -0.25859401\n",
            "  -0.59544729 -0.11403985 -0.23328465  0.04235219 -0.19550132  0.11689586\n",
            "   0.21553507]\n",
            " [-0.31342949  0.03930172  0.14945431 -0.39905653  0.13685982 -0.53379539\n",
            "  -0.37213935  0.11691707  0.36822675 -0.09555303  0.20914487 -0.23736257\n",
            "   0.1341839 ]\n",
            " [ 0.0886167   0.52999567 -0.13730621 -0.06592568 -0.07643678 -0.41864414\n",
            "   0.22771214  0.0119928  -0.03379692  0.60422163 -0.05621752  0.0318388\n",
            "  -0.29077518]\n",
            " [-0.29671456 -0.27923515  0.08522192  0.42777141 -0.17361452  0.10598274\n",
            "  -0.23207564  0.08988884  0.43662362  0.259214   -0.08582839 -0.04821201\n",
            "  -0.52239889]\n",
            " [-0.37616741 -0.16449619  0.16600459 -0.18412074 -0.10116099  0.26585107\n",
            "   0.0447637   0.15671813 -0.07810789  0.60095872 -0.1372269   0.0464233\n",
            "   0.52370587]\n",
            " [-0.28675223  0.36490283 -0.12674592  0.23207086 -0.1578688   0.11972557\n",
            "  -0.0768045  -0.01444734  0.12002267 -0.07940162  0.57578611  0.53926983\n",
            "   0.162116  ]]\n"
          ],
          "name": "stdout"
        }
      ]
    },
    {
      "cell_type": "code",
      "metadata": {
        "id": "v-DKwwZqB4q5",
        "colab_type": "code",
        "colab": {}
      },
      "source": [
        "# PCA를 진행합니다.\n",
        "pca = PCA(n_components=3)\n",
        "X_pca = pca.fit_transform(X) # PCA 적합"
      ],
      "execution_count": 0,
      "outputs": []
    },
    {
      "cell_type": "code",
      "metadata": {
        "id": "r38qAMMNB4wQ",
        "colab_type": "code",
        "colab": {
          "base_uri": "https://localhost:8080/",
          "height": 35
        },
        "outputId": "09a6fd1a-7343-486b-be66-9fbdde8a1dd5"
      },
      "source": [
        "pca.explained_variance_ratio_"
      ],
      "execution_count": 105,
      "outputs": [
        {
          "output_type": "execute_result",
          "data": {
            "text/plain": [
              "array([0.36198848, 0.1920749 , 0.11123631])"
            ]
          },
          "metadata": {
            "tags": []
          },
          "execution_count": 105
        }
      ]
    },
    {
      "cell_type": "code",
      "metadata": {
        "id": "I946p7aqESR1",
        "colab_type": "code",
        "colab": {}
      },
      "source": [
        "X_train, X_test = train_test_split(X_pca, test_size=0.3, random_state= 40)"
      ],
      "execution_count": 0,
      "outputs": []
    },
    {
      "cell_type": "code",
      "metadata": {
        "id": "ZQC3TkRsCnQ6",
        "colab_type": "code",
        "colab": {
          "base_uri": "https://localhost:8080/",
          "height": 91
        },
        "outputId": "a3815c7c-0346-476e-b495-ab8b4a6262d6"
      },
      "source": [
        "model.fit(X_train, Y_train)\n",
        "model.score(X_test, Y_test)"
      ],
      "execution_count": 114,
      "outputs": [
        {
          "output_type": "stream",
          "text": [
            "/usr/local/lib/python3.6/dist-packages/sklearn/utils/validation.py:760: DataConversionWarning: A column-vector y was passed when a 1d array was expected. Please change the shape of y to (n_samples, ), for example using ravel().\n",
            "  y = column_or_1d(y, warn=True)\n"
          ],
          "name": "stderr"
        },
        {
          "output_type": "execute_result",
          "data": {
            "text/plain": [
              "0.9629629629629629"
            ]
          },
          "metadata": {
            "tags": []
          },
          "execution_count": 114
        }
      ]
    }
  ]
}